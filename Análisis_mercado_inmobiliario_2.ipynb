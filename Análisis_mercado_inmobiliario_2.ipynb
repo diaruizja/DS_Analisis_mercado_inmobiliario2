{
  "nbformat": 4,
  "nbformat_minor": 0,
  "metadata": {
    "kernelspec": {
      "display_name": "Python 3",
      "language": "python",
      "name": "python3"
    },
    "language_info": {
      "codemirror_mode": {
        "name": "ipython",
        "version": 3
      },
      "file_extension": ".py",
      "mimetype": "text/x-python",
      "name": "python",
      "nbconvert_exporter": "python",
      "pygments_lexer": "ipython3",
      "version": "3.6.5"
    },
    "colab": {
      "name": "Análisis mercado inmobiliario 2.ipynb",
      "provenance": [],
      "collapsed_sections": [],
      "include_colab_link": true
    }
  },
  "cells": [
    {
      "cell_type": "markdown",
      "metadata": {
        "id": "view-in-github",
        "colab_type": "text"
      },
      "source": [
        "<a href=\"https://colab.research.google.com/github/diaruizja/DS_mercado_inmobiliario2/blob/master/An%C3%A1lisis_mercado_inmobiliario_2.ipynb\" target=\"_parent\"><img src=\"https://colab.research.google.com/assets/colab-badge.svg\" alt=\"Open In Colab\"/></a>"
      ]
    },
    {
      "cell_type": "markdown",
      "metadata": {
        "id": "i8oq1OZ9ahhJ",
        "colab_type": "text"
      },
      "source": [
        "# Proyecto: Engrasandonos las manos con datos"
      ]
    },
    {
      "cell_type": "markdown",
      "metadata": {
        "id": "IydD8CodahhN",
        "colab_type": "text"
      },
      "source": [
        "¡Bienvenidos al segundo proyecto de la carrera de Data Science de Acamica! \n",
        "\n",
        "En este proyecto vamos a seguir trabajando con el dataset de propiedades en venta publicadas en el portal [Properati](www.properati.com.ar). El objetivo en este caso es continuar con la limpieza de datos y avanzar en remover valores faltantes y remover outliers. Por otro lado, vamos a agregar nuevos atributos basados en los datos."
      ]
    },
    {
      "cell_type": "markdown",
      "metadata": {
        "id": "J7v1pSWjahhP",
        "colab_type": "text"
      },
      "source": [
        "## Dataset: Propiedades en venta en Ciudad de Buenos Aires."
      ]
    },
    {
      "cell_type": "markdown",
      "metadata": {
        "id": "ipVrOLZ8ahhR",
        "colab_type": "text"
      },
      "source": [
        "En este proyecto, trabajaremos con una muestra del conjunto de datos de propiedades en venta mencionado. En este dataset, cada fila es una propiedad en venta. A continuación vamos a describir los atributos que consideramos en esta muestra:\n",
        "\n",
        "* id: id de la propiedad\n",
        "* created_on: fecha en la que la propiedad ingresó al sitio\n",
        "* operation: alquiler (rent) o venta (sell)\n",
        "* property_type: tipo de propiedad (casa, departamento, ph, etcétera)\n",
        "* place_with_parent_names: nombre del lugar donde se encuentra la propiedad según el publicador\n",
        "* lat-lon: coordenadas concatenadas\n",
        "* lat: latitud\n",
        "* lon: longitud\n",
        "* price: precio en la moneda especificada en currency\n",
        "* currency: divisa en la que está expresada la publicación\n",
        "* price_aprox_usd: precio aproximado en dólares estadounidenses\n",
        "* surface_total_in_m2: superficie total (en metros cuadrados)\n",
        "* surface_covered_in_m2: superficie cubierta (en metros cuadrados)\n",
        "* price_usd_per_m2: precio por metro cuadrado en dólares (precio dólares / superficie)\n",
        "* floor: número de piso (si corresponde)\n",
        "* rooms: cantidad de ambientes\n",
        "* expenses: expensas (si corresponde)\n",
        "* barrio: barrio según cartografía oficial\n",
        "* properati_url: url de la publicación en Properati\n",
        "\n",
        "A continuación vamos a levantar el dataset para comenzar el procesamiento. Cabe destacar que en este caso ya fueron hechas las correcciones de coordenadas y superficies incorrectas que vimos en el proyecto anterior"
      ]
    },
    {
      "cell_type": "code",
      "metadata": {
        "id": "73nPOVp_ahhT",
        "colab_type": "code",
        "colab": {
          "base_uri": "https://localhost:8080/"
        },
        "outputId": "6abcfa30-ef67-4945-8ed7-758e221aa046"
      },
      "source": [
        "import matplotlib.pyplot as plt\n",
        "%matplotlib inline\n",
        "import seaborn as sns\n",
        "import pandas as pd\n",
        "\n",
        "\n",
        "MAX_ROWS = 10\n",
        "pd.set_option('display.max_rows', MAX_ROWS)\n",
        "pd.set_option('display.max_columns', 200)\n",
        " \n",
        "sns.set_style(\"whitegrid\")\n",
        "sns.set_context(\"paper\")\n",
        "\n",
        "plt.rcParams['figure.figsize'] = (12,5)"
      ],
      "execution_count": null,
      "outputs": [
        {
          "output_type": "stream",
          "text": [
            "/usr/local/lib/python3.6/dist-packages/statsmodels/tools/_testing.py:19: FutureWarning: pandas.util.testing is deprecated. Use the functions in the public API at pandas.testing instead.\n",
            "  import pandas.util.testing as tm\n"
          ],
          "name": "stderr"
        }
      ]
    },
    {
      "cell_type": "code",
      "metadata": {
        "id": "oEhKj9NPlP7B",
        "colab_type": "code",
        "colab": {}
      },
      "source": [
        "from google.colab import drive\n",
        "drive.mount('/content/drive')"
      ],
      "execution_count": null,
      "outputs": []
    },
    {
      "cell_type": "code",
      "metadata": {
        "id": "3uX9F0VCahhZ",
        "colab_type": "code",
        "colab": {}
      },
      "source": [
        "path_dataset = '/content/drive/My Drive/Data Science/Entregas de proyectos/Entrega #2/datos_properati_limpios.csv'\n",
        "df = pd.read_csv(path_dataset, parse_dates=['created_on'])"
      ],
      "execution_count": null,
      "outputs": []
    },
    {
      "cell_type": "code",
      "metadata": {
        "id": "vM_QlMdhnY9c",
        "colab_type": "code",
        "colab": {
          "base_uri": "https://localhost:8080/",
          "height": 521
        },
        "outputId": "84261efb-3a36-4010-f646-559526e104ba"
      },
      "source": [
        "df.head(8)"
      ],
      "execution_count": null,
      "outputs": [
        {
          "output_type": "execute_result",
          "data": {
            "text/html": [
              "<div>\n",
              "<style scoped>\n",
              "    .dataframe tbody tr th:only-of-type {\n",
              "        vertical-align: middle;\n",
              "    }\n",
              "\n",
              "    .dataframe tbody tr th {\n",
              "        vertical-align: top;\n",
              "    }\n",
              "\n",
              "    .dataframe thead th {\n",
              "        text-align: right;\n",
              "    }\n",
              "</style>\n",
              "<table border=\"1\" class=\"dataframe\">\n",
              "  <thead>\n",
              "    <tr style=\"text-align: right;\">\n",
              "      <th></th>\n",
              "      <th>created_on</th>\n",
              "      <th>property_type</th>\n",
              "      <th>place_name</th>\n",
              "      <th>place_with_parent_names</th>\n",
              "      <th>lat</th>\n",
              "      <th>lon</th>\n",
              "      <th>price_aprox_usd</th>\n",
              "      <th>surface_total_in_m2</th>\n",
              "      <th>surface_covered_in_m2</th>\n",
              "      <th>price_usd_per_m2</th>\n",
              "      <th>floor</th>\n",
              "      <th>rooms</th>\n",
              "      <th>expenses</th>\n",
              "      <th>properati_url</th>\n",
              "      <th>barrio</th>\n",
              "    </tr>\n",
              "  </thead>\n",
              "  <tbody>\n",
              "    <tr>\n",
              "      <th>0</th>\n",
              "      <td>2017-09-22</td>\n",
              "      <td>house</td>\n",
              "      <td>Palermo Viejo</td>\n",
              "      <td>|Argentina|Capital Federal|Palermo|Palermo Viejo|</td>\n",
              "      <td>-34.588953</td>\n",
              "      <td>-58.429882</td>\n",
              "      <td>2000000.0</td>\n",
              "      <td>312.0</td>\n",
              "      <td>NaN</td>\n",
              "      <td>6410.256410</td>\n",
              "      <td>NaN</td>\n",
              "      <td>NaN</td>\n",
              "      <td>NaN</td>\n",
              "      <td>https://www.properati.com.ar/2os_venta_casa_pa...</td>\n",
              "      <td>PALERMO</td>\n",
              "    </tr>\n",
              "    <tr>\n",
              "      <th>1</th>\n",
              "      <td>2017-08-29</td>\n",
              "      <td>apartment</td>\n",
              "      <td>Palermo</td>\n",
              "      <td>|Argentina|Capital Federal|Palermo|</td>\n",
              "      <td>-34.588912</td>\n",
              "      <td>-58.413494</td>\n",
              "      <td>340000.0</td>\n",
              "      <td>130.0</td>\n",
              "      <td>120.0</td>\n",
              "      <td>2615.384615</td>\n",
              "      <td>NaN</td>\n",
              "      <td>4.0</td>\n",
              "      <td>8000.0</td>\n",
              "      <td>https://www.properati.com.ar/1dzv6_venta_depar...</td>\n",
              "      <td>PALERMO</td>\n",
              "    </tr>\n",
              "    <tr>\n",
              "      <th>2</th>\n",
              "      <td>2017-08-29</td>\n",
              "      <td>apartment</td>\n",
              "      <td>Palermo</td>\n",
              "      <td>|Argentina|Capital Federal|Palermo|</td>\n",
              "      <td>-34.577033</td>\n",
              "      <td>-58.423368</td>\n",
              "      <td>222000.0</td>\n",
              "      <td>52.0</td>\n",
              "      <td>48.0</td>\n",
              "      <td>4269.230769</td>\n",
              "      <td>NaN</td>\n",
              "      <td>1.0</td>\n",
              "      <td>NaN</td>\n",
              "      <td>https://www.properati.com.ar/1e05k_venta_depar...</td>\n",
              "      <td>PALERMO</td>\n",
              "    </tr>\n",
              "    <tr>\n",
              "      <th>3</th>\n",
              "      <td>2017-08-29</td>\n",
              "      <td>apartment</td>\n",
              "      <td>Palermo</td>\n",
              "      <td>|Argentina|Capital Federal|Palermo|</td>\n",
              "      <td>-34.595014</td>\n",
              "      <td>-58.427392</td>\n",
              "      <td>180000.0</td>\n",
              "      <td>70.0</td>\n",
              "      <td>70.0</td>\n",
              "      <td>2571.428571</td>\n",
              "      <td>NaN</td>\n",
              "      <td>NaN</td>\n",
              "      <td>3000.0</td>\n",
              "      <td>https://www.properati.com.ar/1e0mq_venta_depar...</td>\n",
              "      <td>PALERMO</td>\n",
              "    </tr>\n",
              "    <tr>\n",
              "      <th>4</th>\n",
              "      <td>2017-08-30</td>\n",
              "      <td>house</td>\n",
              "      <td>Palermo Hollywood</td>\n",
              "      <td>|Argentina|Capital Federal|Palermo|Palermo Hol...</td>\n",
              "      <td>-34.579354</td>\n",
              "      <td>-58.436449</td>\n",
              "      <td>1200000.0</td>\n",
              "      <td>532.0</td>\n",
              "      <td>334.0</td>\n",
              "      <td>2255.639098</td>\n",
              "      <td>NaN</td>\n",
              "      <td>6.0</td>\n",
              "      <td>NaN</td>\n",
              "      <td>https://www.properati.com.ar/1e1ve_venta_casa_...</td>\n",
              "      <td>PALERMO</td>\n",
              "    </tr>\n",
              "    <tr>\n",
              "      <th>5</th>\n",
              "      <td>2017-08-30</td>\n",
              "      <td>house</td>\n",
              "      <td>Palermo</td>\n",
              "      <td>|Argentina|Capital Federal|Palermo|</td>\n",
              "      <td>-34.579354</td>\n",
              "      <td>-58.436449</td>\n",
              "      <td>1200000.0</td>\n",
              "      <td>532.0</td>\n",
              "      <td>334.0</td>\n",
              "      <td>2255.639098</td>\n",
              "      <td>NaN</td>\n",
              "      <td>6.0</td>\n",
              "      <td>NaN</td>\n",
              "      <td>https://www.properati.com.ar/1e1vf_venta_casa_...</td>\n",
              "      <td>PALERMO</td>\n",
              "    </tr>\n",
              "    <tr>\n",
              "      <th>6</th>\n",
              "      <td>2017-08-30</td>\n",
              "      <td>apartment</td>\n",
              "      <td>Palermo Hollywood</td>\n",
              "      <td>|Argentina|Capital Federal|Palermo|Palermo Hol...</td>\n",
              "      <td>-34.580928</td>\n",
              "      <td>-58.440432</td>\n",
              "      <td>270000.0</td>\n",
              "      <td>67.0</td>\n",
              "      <td>64.0</td>\n",
              "      <td>4029.850746</td>\n",
              "      <td>NaN</td>\n",
              "      <td>3.0</td>\n",
              "      <td>3900.0</td>\n",
              "      <td>https://www.properati.com.ar/1e1x0_venta_depar...</td>\n",
              "      <td>PALERMO</td>\n",
              "    </tr>\n",
              "    <tr>\n",
              "      <th>7</th>\n",
              "      <td>2017-08-30</td>\n",
              "      <td>PH</td>\n",
              "      <td>Palermo Soho</td>\n",
              "      <td>|Argentina|Capital Federal|Palermo|Palermo Soho|</td>\n",
              "      <td>-34.589776</td>\n",
              "      <td>-58.428558</td>\n",
              "      <td>219000.0</td>\n",
              "      <td>72.0</td>\n",
              "      <td>NaN</td>\n",
              "      <td>3041.666667</td>\n",
              "      <td>NaN</td>\n",
              "      <td>3.0</td>\n",
              "      <td>NaN</td>\n",
              "      <td>https://www.properati.com.ar/1e1xj_venta_ph_pa...</td>\n",
              "      <td>PALERMO</td>\n",
              "    </tr>\n",
              "  </tbody>\n",
              "</table>\n",
              "</div>"
            ],
            "text/plain": [
              "  created_on property_type         place_name  \\\n",
              "0 2017-09-22         house      Palermo Viejo   \n",
              "1 2017-08-29     apartment            Palermo   \n",
              "2 2017-08-29     apartment            Palermo   \n",
              "3 2017-08-29     apartment            Palermo   \n",
              "4 2017-08-30         house  Palermo Hollywood   \n",
              "5 2017-08-30         house            Palermo   \n",
              "6 2017-08-30     apartment  Palermo Hollywood   \n",
              "7 2017-08-30            PH       Palermo Soho   \n",
              "\n",
              "                             place_with_parent_names        lat        lon  \\\n",
              "0  |Argentina|Capital Federal|Palermo|Palermo Viejo| -34.588953 -58.429882   \n",
              "1                |Argentina|Capital Federal|Palermo| -34.588912 -58.413494   \n",
              "2                |Argentina|Capital Federal|Palermo| -34.577033 -58.423368   \n",
              "3                |Argentina|Capital Federal|Palermo| -34.595014 -58.427392   \n",
              "4  |Argentina|Capital Federal|Palermo|Palermo Hol... -34.579354 -58.436449   \n",
              "5                |Argentina|Capital Federal|Palermo| -34.579354 -58.436449   \n",
              "6  |Argentina|Capital Federal|Palermo|Palermo Hol... -34.580928 -58.440432   \n",
              "7   |Argentina|Capital Federal|Palermo|Palermo Soho| -34.589776 -58.428558   \n",
              "\n",
              "   price_aprox_usd  surface_total_in_m2  surface_covered_in_m2  \\\n",
              "0        2000000.0                312.0                    NaN   \n",
              "1         340000.0                130.0                  120.0   \n",
              "2         222000.0                 52.0                   48.0   \n",
              "3         180000.0                 70.0                   70.0   \n",
              "4        1200000.0                532.0                  334.0   \n",
              "5        1200000.0                532.0                  334.0   \n",
              "6         270000.0                 67.0                   64.0   \n",
              "7         219000.0                 72.0                    NaN   \n",
              "\n",
              "   price_usd_per_m2  floor  rooms  expenses  \\\n",
              "0       6410.256410    NaN    NaN       NaN   \n",
              "1       2615.384615    NaN    4.0    8000.0   \n",
              "2       4269.230769    NaN    1.0       NaN   \n",
              "3       2571.428571    NaN    NaN    3000.0   \n",
              "4       2255.639098    NaN    6.0       NaN   \n",
              "5       2255.639098    NaN    6.0       NaN   \n",
              "6       4029.850746    NaN    3.0    3900.0   \n",
              "7       3041.666667    NaN    3.0       NaN   \n",
              "\n",
              "                                       properati_url   barrio  \n",
              "0  https://www.properati.com.ar/2os_venta_casa_pa...  PALERMO  \n",
              "1  https://www.properati.com.ar/1dzv6_venta_depar...  PALERMO  \n",
              "2  https://www.properati.com.ar/1e05k_venta_depar...  PALERMO  \n",
              "3  https://www.properati.com.ar/1e0mq_venta_depar...  PALERMO  \n",
              "4  https://www.properati.com.ar/1e1ve_venta_casa_...  PALERMO  \n",
              "5  https://www.properati.com.ar/1e1vf_venta_casa_...  PALERMO  \n",
              "6  https://www.properati.com.ar/1e1x0_venta_depar...  PALERMO  \n",
              "7  https://www.properati.com.ar/1e1xj_venta_ph_pa...  PALERMO  "
            ]
          },
          "metadata": {
            "tags": []
          },
          "execution_count": 176
        }
      ]
    },
    {
      "cell_type": "code",
      "metadata": {
        "id": "Cl8Fa4HTahhe",
        "colab_type": "code",
        "colab": {
          "base_uri": "https://localhost:8080/",
          "height": 102
        },
        "outputId": "fa29cc9a-b7fc-435d-987c-e55f1f4be967"
      },
      "source": [
        "df.columns"
      ],
      "execution_count": null,
      "outputs": [
        {
          "output_type": "execute_result",
          "data": {
            "text/plain": [
              "Index(['created_on', 'property_type', 'place_name', 'place_with_parent_names',\n",
              "       'lat', 'lon', 'price_aprox_usd', 'surface_total_in_m2',\n",
              "       'surface_covered_in_m2', 'price_usd_per_m2', 'floor', 'rooms',\n",
              "       'expenses', 'properati_url', 'barrio'],\n",
              "      dtype='object')"
            ]
          },
          "metadata": {
            "tags": []
          },
          "execution_count": 177
        }
      ]
    },
    {
      "cell_type": "code",
      "metadata": {
        "id": "HAQi6uyrahhi",
        "colab_type": "code",
        "colab": {
          "base_uri": "https://localhost:8080/",
          "height": 34
        },
        "outputId": "5f65d423-4731-4a4e-a16e-771bb509371a"
      },
      "source": [
        "print(\"El dataset que vamos a trabajar aquí tiene {} observaciones\".format(df.shape[0]))"
      ],
      "execution_count": null,
      "outputs": [
        {
          "output_type": "stream",
          "text": [
            "El dataset que vamos a trabajar aquí tiene 13756 observaciones\n"
          ],
          "name": "stdout"
        }
      ]
    },
    {
      "cell_type": "markdown",
      "metadata": {
        "id": "rO-QUFjuahhn",
        "colab_type": "text"
      },
      "source": [
        "Dado que ya lo trabajamos en el proyecto anterior, en este caso ya hemos filtrado observaciones para trabajar solo con casas (house), departamentos (apartment) y PH (PH)."
      ]
    },
    {
      "cell_type": "markdown",
      "metadata": {
        "id": "oDCHRy8uahho",
        "colab_type": "text"
      },
      "source": [
        "### Outliers"
      ]
    },
    {
      "cell_type": "markdown",
      "metadata": {
        "id": "W_1MiGVrahhs",
        "colab_type": "text"
      },
      "source": [
        "Analicemos en primer lugar los valores extremos que puede haber en los precios y en las superficies. Esto nos va a ser útil para luego imputar usando medidas de tendencia central, como el promedio. \n",
        "Recordemos que las medidas de tendencia central pueden ser sensibles a outliers, por lo que la imputación de valores faltantes puede verse afectada\n",
        "\n",
        "Una posible pregunta que surge es si conviene primero imputar faltantes y luego remover outliers, o lo contrario.  Cuando se imputa se modifica la distribución de los datos. Por eso, las cotas que utilicemos para definir los outliers se verán afectadas por este cambio y modificarán los resultados finales. Entonces comenzaremos quitando outliers.\n",
        "\n",
        "Vamos a trabajar con `price_usd_per_m2`. Precios altos pueden corresponderse con grandes superficies, por lo que conviene analizar juntos ambos atributos. Veamos la distribución de los valores y un boxplot para comenzar a identificar los outliers."
      ]
    },
    {
      "cell_type": "markdown",
      "metadata": {
        "id": "0DOiymVyahht",
        "colab_type": "text"
      },
      "source": [
        "**1) Utilizá** seaborn para hacer un `distplot` del precio por metro cuadrado. \n",
        "\n",
        "Deberás hacer un `drop` de los valores `NaN` de esta columna antes de graficar."
      ]
    },
    {
      "cell_type": "code",
      "metadata": {
        "id": "fx_bPIPMmc4-",
        "colab_type": "code",
        "colab": {
          "base_uri": "https://localhost:8080/",
          "height": 357
        },
        "outputId": "b58632a0-e8b0-4121-80f1-73ae040a897a"
      },
      "source": [
        "df.dropna(subset=[\"price_usd_per_m2\"])\n",
        "df.info()"
      ],
      "execution_count": null,
      "outputs": [
        {
          "output_type": "stream",
          "text": [
            "<class 'pandas.core.frame.DataFrame'>\n",
            "RangeIndex: 13756 entries, 0 to 13755\n",
            "Data columns (total 15 columns):\n",
            "created_on                 13756 non-null datetime64[ns]\n",
            "property_type              13756 non-null object\n",
            "place_name                 13756 non-null object\n",
            "place_with_parent_names    13756 non-null object\n",
            "lat                        13756 non-null float64\n",
            "lon                        13756 non-null float64\n",
            "price_aprox_usd            13756 non-null float64\n",
            "surface_total_in_m2        12984 non-null float64\n",
            "surface_covered_in_m2      13248 non-null float64\n",
            "price_usd_per_m2           12973 non-null float64\n",
            "floor                      2002 non-null float64\n",
            "rooms                      11225 non-null float64\n",
            "expenses                   3561 non-null float64\n",
            "properati_url              13756 non-null object\n",
            "barrio                     13756 non-null object\n",
            "dtypes: datetime64[ns](1), float64(9), object(5)\n",
            "memory usage: 1.6+ MB\n"
          ],
          "name": "stdout"
        }
      ]
    },
    {
      "cell_type": "code",
      "metadata": {
        "id": "8385Hu1Gahhu",
        "colab_type": "code",
        "colab": {
          "base_uri": "https://localhost:8080/",
          "height": 352
        },
        "outputId": "b2835e65-91e0-4910-c16b-f45337268283"
      },
      "source": [
        "# Mostrá la figura en esta celda\n",
        "\n",
        "sns.distplot(df[\"price_usd_per_m2\"], hist=True, kde=True)"
      ],
      "execution_count": null,
      "outputs": [
        {
          "output_type": "execute_result",
          "data": {
            "text/plain": [
              "<matplotlib.axes._subplots.AxesSubplot at 0x7f71c4bb2d30>"
            ]
          },
          "metadata": {
            "tags": []
          },
          "execution_count": 180
        },
        {
          "output_type": "display_data",
          "data": {
            "image/png": "[encoded data removed]",
            "text/plain": [
              "<Figure size 864x360 with 1 Axes>"
            ]
          },
          "metadata": {
            "tags": []
          }
        }
      ]
    },
    {
      "cell_type": "markdown",
      "metadata": {
        "id": "V4KJeA2Nahhz",
        "colab_type": "text"
      },
      "source": [
        "**2) Hacé** un `boxplot` de la columna `price_usd_per_m2`"
      ]
    },
    {
      "cell_type": "code",
      "metadata": {
        "id": "UfntzWAIahh0",
        "colab_type": "code",
        "colab": {
          "base_uri": "https://localhost:8080/",
          "height": 352
        },
        "outputId": "f7270898-4056-4b55-ebb3-67dfcb55b764"
      },
      "source": [
        "# El boxplot debe estar en esta celda\n",
        "\n",
        "sns.boxplot(x=\"price_usd_per_m2\", data=df)\n"
      ],
      "execution_count": null,
      "outputs": [
        {
          "output_type": "execute_result",
          "data": {
            "text/plain": [
              "<matplotlib.axes._subplots.AxesSubplot at 0x7f71c4892c88>"
            ]
          },
          "metadata": {
            "tags": []
          },
          "execution_count": 181
        },
        {
          "output_type": "display_data",
          "data": {
            "image/png": "[encoded data removed]",
            "text/plain": [
              "<Figure size 864x360 with 1 Axes>"
            ]
          },
          "metadata": {
            "tags": []
          }
        }
      ]
    },
    {
      "cell_type": "markdown",
      "metadata": {
        "id": "xOMg5c7vahh4",
        "colab_type": "text"
      },
      "source": [
        "¿A qué conclusión podemos llegar observando estas figuras?\n",
        "**Responder**\n",
        "\n",
        "R/ la conclusion a la que se llega es que en el dataset se cuenta con gran cantidad de outliers que estan por encima del tercer cuartil y otro cuantos que estan por debajo de primer cuartil. Esto puede alterar las mediciones de tendencia central si se deja esta cantidad de datos atípicos"
      ]
    },
    {
      "cell_type": "markdown",
      "metadata": {
        "id": "_ruCZMF8ahh5",
        "colab_type": "text"
      },
      "source": [
        "Para confirmar la presencia de outliers vamos a utilizar los percentiles.\n",
        "\n",
        "**3) Describir** la columna mostrando sus estadísticos"
      ]
    },
    {
      "cell_type": "code",
      "metadata": {
        "id": "3X7SNFoiahh6",
        "colab_type": "code",
        "colab": {}
      },
      "source": [
        "# Describir la columna en esta celda\n",
        "\n",
        "df[\"price_usd_per_m2\"].describe()"
      ],
      "execution_count": null,
      "outputs": []
    },
    {
      "cell_type": "markdown",
      "metadata": {
        "id": "Tgv0XxBIahiA",
        "colab_type": "text"
      },
      "source": [
        "Estamos ante la presencia de valores extremos en ambas puntas de la distribución. Vamos a aplicar la técnica del rango intercuartílico para limpiarlos.\n",
        "\n",
        "Para obtener el rango tenemos que calcular la diferencia entre el tercer y el primer percentil. Luego en base a esto calcularemos los valores mínimos y máximos para definir qué observaciones serán descartadas.\n",
        "\n",
        "**4) Aplicar la técnica del rango intercuartílico** para limpiar el precio por metro cuadrado. El resultado deberá ser un `dataframe` llamado `df_filtered` sin los outliers."
      ]
    },
    {
      "cell_type": "code",
      "metadata": {
        "id": "aFap-0MmahiC",
        "colab_type": "code",
        "colab": {
          "base_uri": "https://localhost:8080/",
          "height": 34
        },
        "outputId": "0d7e6dd4-a117-4713-b3e6-b24f22b5208d"
      },
      "source": [
        "# Realizar el filtrado intercuartílico en esta celda\n",
        "\n",
        "IQR=df[\"price_usd_per_m2\"].quantile(0.75) - df[\"price_usd_per_m2\"].quantile(0.25)\n",
        "IQR"
      ],
      "execution_count": null,
      "outputs": [
        {
          "output_type": "execute_result",
          "data": {
            "text/plain": [
              "1165.8163265306118"
            ]
          },
          "metadata": {
            "tags": []
          },
          "execution_count": 183
        }
      ]
    },
    {
      "cell_type": "code",
      "metadata": {
        "id": "dU_lYSOJVxF7",
        "colab_type": "code",
        "colab": {
          "base_uri": "https://localhost:8080/",
          "height": 51
        },
        "outputId": "5e0d63bc-5623-4232-ee81-0d57616caf21"
      },
      "source": [
        "minimo=1959.183673-(IQR*1.5)\n",
        "maximo=3125.000000+(IQR*1.5)\n",
        "print(minimo,\"\\n\",maximo)"
      ],
      "execution_count": null,
      "outputs": [
        {
          "output_type": "stream",
          "text": [
            "210.45918320408236 \n",
            " 4873.724489795917\n"
          ],
          "name": "stdout"
        }
      ]
    },
    {
      "cell_type": "code",
      "metadata": {
        "id": "Q4Pc53vKZlSN",
        "colab_type": "code",
        "colab": {
          "base_uri": "https://localhost:8080/",
          "height": 357
        },
        "outputId": "13bf8feb-f53a-4bcf-db63-960e75b7b1a3"
      },
      "source": [
        "df_filtered = df[(df.price_usd_per_m2 > minimo) & (df.price_usd_per_m2 < maximo)]\n",
        "df_filtered.info()"
      ],
      "execution_count": null,
      "outputs": [
        {
          "output_type": "stream",
          "text": [
            "<class 'pandas.core.frame.DataFrame'>\n",
            "Int64Index: 12288 entries, 1 to 13755\n",
            "Data columns (total 15 columns):\n",
            "created_on                 12288 non-null datetime64[ns]\n",
            "property_type              12288 non-null object\n",
            "place_name                 12288 non-null object\n",
            "place_with_parent_names    12288 non-null object\n",
            "lat                        12288 non-null float64\n",
            "lon                        12288 non-null float64\n",
            "price_aprox_usd            12288 non-null float64\n",
            "surface_total_in_m2        12288 non-null float64\n",
            "surface_covered_in_m2      11814 non-null float64\n",
            "price_usd_per_m2           12288 non-null float64\n",
            "floor                      1833 non-null float64\n",
            "rooms                      10128 non-null float64\n",
            "expenses                   3198 non-null float64\n",
            "properati_url              12288 non-null object\n",
            "barrio                     12288 non-null object\n",
            "dtypes: datetime64[ns](1), float64(9), object(5)\n",
            "memory usage: 1.5+ MB\n"
          ],
          "name": "stdout"
        }
      ]
    },
    {
      "cell_type": "markdown",
      "metadata": {
        "id": "Q0drrb-2ahiF",
        "colab_type": "text"
      },
      "source": [
        "**5)** Volver a **plotear** con `distplot` y `boxplot` los precios sin los outliers y observá las diferencias con los anteriores ploteo."
      ]
    },
    {
      "cell_type": "code",
      "metadata": {
        "id": "iJOwoGayahiH",
        "colab_type": "code",
        "colab": {
          "base_uri": "https://localhost:8080/",
          "height": 352
        },
        "outputId": "30b99807-645f-4a1f-c396-227ebdd5bf5c"
      },
      "source": [
        "# Hacé el distplot \n",
        "\n",
        "sns.distplot(df_filtered[\"price_usd_per_m2\"], hist=True, kde=True)"
      ],
      "execution_count": null,
      "outputs": [
        {
          "output_type": "execute_result",
          "data": {
            "text/plain": [
              "<matplotlib.axes._subplots.AxesSubplot at 0x7f71c4e36400>"
            ]
          },
          "metadata": {
            "tags": []
          },
          "execution_count": 186
        },
        {
          "output_type": "display_data",
          "data": {
            "image/png": "[encoded data removed]",
            "text/plain": [
              "<Figure size 864x360 with 1 Axes>"
            ]
          },
          "metadata": {
            "tags": []
          }
        }
      ]
    },
    {
      "cell_type": "code",
      "metadata": {
        "id": "zQo9g12yahiK",
        "colab_type": "code",
        "colab": {
          "base_uri": "https://localhost:8080/",
          "height": 352
        },
        "outputId": "fc453bb7-37ed-4ad9-99a2-79e493ac8af4"
      },
      "source": [
        "# Hacé el boxplot en esta celda\n",
        "\n",
        "sns.boxplot(x=\"price_usd_per_m2\", data=df_filtered)"
      ],
      "execution_count": null,
      "outputs": [
        {
          "output_type": "execute_result",
          "data": {
            "text/plain": [
              "<matplotlib.axes._subplots.AxesSubplot at 0x7f71c46979b0>"
            ]
          },
          "metadata": {
            "tags": []
          },
          "execution_count": 187
        },
        {
          "output_type": "display_data",
          "data": {
            "image/png": "[encoded data removed]",
            "text/plain": [
              "<Figure size 864x360 with 1 Axes>"
            ]
          },
          "metadata": {
            "tags": []
          }
        }
      ]
    },
    {
      "cell_type": "markdown",
      "metadata": {
        "id": "1W-eY-2yahiN",
        "colab_type": "text"
      },
      "source": [
        "**6) Describir** nuevamente la columna mostrando sus estadísticos."
      ]
    },
    {
      "cell_type": "code",
      "metadata": {
        "id": "tFetwtCzahiO",
        "colab_type": "code",
        "colab": {
          "base_uri": "https://localhost:8080/",
          "height": 170
        },
        "outputId": "fc5bcf51-65e6-4c74-b16a-621e7b20659d"
      },
      "source": [
        "df_filtered[\"price_usd_per_m2\"].describe()"
      ],
      "execution_count": null,
      "outputs": [
        {
          "output_type": "execute_result",
          "data": {
            "text/plain": [
              "count    12288.000000\n",
              "mean      2505.089766\n",
              "std        834.949633\n",
              "min        213.068182\n",
              "25%       1933.333333\n",
              "50%       2466.666667\n",
              "75%       3027.864583\n",
              "max       4871.794872\n",
              "Name: price_usd_per_m2, dtype: float64"
            ]
          },
          "metadata": {
            "tags": []
          },
          "execution_count": 188
        }
      ]
    },
    {
      "cell_type": "markdown",
      "metadata": {
        "id": "tI-Ty5HDahiV",
        "colab_type": "text"
      },
      "source": [
        "Vamos a seguir trabajando con el `dataframe` filtrado"
      ]
    },
    {
      "cell_type": "code",
      "metadata": {
        "id": "6zr1BIi6ahiW",
        "colab_type": "code",
        "colab": {}
      },
      "source": [
        "df = df_filtered\n",
        "df\n"
      ],
      "execution_count": null,
      "outputs": []
    },
    {
      "cell_type": "markdown",
      "metadata": {
        "id": "nsu1Dlqmahia",
        "colab_type": "text"
      },
      "source": [
        "### Valores Faltantes"
      ]
    },
    {
      "cell_type": "markdown",
      "metadata": {
        "id": "mGr0_i5xahib",
        "colab_type": "text"
      },
      "source": [
        "A diferencia del proyecto pasado, vamos a intentar imputar los valores faltantes para los atributos que consideramos importantes para el mercado inmobiliario. \n",
        "\n",
        "Estos atributos son los que informan **superficie (total o cubierta), cantidad de ambientes, precio y precio por metro cuadrado**. \n",
        "\n",
        "Veamos en primer lugar cuántos valores faltantes tiene cada atributo. Nos interesa verlo como un porcentaje en relación a la cantidad de observaciones. Si un atributo tiene un elevado porcentaje de faltantes, puede ser mejor no considerarlo en el análisis."
      ]
    },
    {
      "cell_type": "markdown",
      "metadata": {
        "id": "fDznU2-Jahic",
        "colab_type": "text"
      },
      "source": [
        "**7) Mostrar** cual es el porcentaje de valores faltantes para cada columna."
      ]
    },
    {
      "cell_type": "code",
      "metadata": {
        "id": "_Gdc31sSahid",
        "colab_type": "code",
        "colab": {
          "base_uri": "https://localhost:8080/",
          "height": 221
        },
        "outputId": "c7466303-f502-465e-b7d9-773c313ee9af"
      },
      "source": [
        "# Mostrá los valores faltantes en esta celda\n",
        "porcentaje_nulos = df.isna().mean().sort_values(ascending=False)*100\n",
        "print(porcentaje_nulos)"
      ],
      "execution_count": null,
      "outputs": [
        {
          "output_type": "stream",
          "text": [
            "floor                      85.083008\n",
            "expenses                   73.974609\n",
            "rooms                      17.578125\n",
            "surface_covered_in_m2       3.857422\n",
            "barrio                      0.000000\n",
            "                             ...    \n",
            "lat                         0.000000\n",
            "place_with_parent_names     0.000000\n",
            "place_name                  0.000000\n",
            "property_type               0.000000\n",
            "created_on                  0.000000\n",
            "Length: 15, dtype: float64\n"
          ],
          "name": "stdout"
        }
      ]
    },
    {
      "cell_type": "markdown",
      "metadata": {
        "id": "h954vOd6ahih",
        "colab_type": "text"
      },
      "source": [
        "Podemos ver en los resultados que los atributos `floor` y `expenses` tienen un elevado porcentaje de faltantes.  Una opción sería descartar estas columnas en el análisis. \n",
        "Si elimináramos las observaciones (filas) asociadas a estos, perderíamos el 84.79% de los datos, mermando demasiado el conjunto de datos.\n",
        "\n",
        "Otra opción sería por ejemplo considerar categorías como faltantes o no faltantes o en todo caso analizar si hay algún patrón para poder evitar quitarlos. \n",
        "\n",
        "Para avanzar con el proyecto, vamos a quitar esos atributos."
      ]
    },
    {
      "cell_type": "code",
      "metadata": {
        "id": "BzsB8KLOahij",
        "colab_type": "code",
        "colab": {
          "base_uri": "https://localhost:8080/",
          "height": 323
        },
        "outputId": "8e212708-064d-4e84-8bf6-7cf8d498194f"
      },
      "source": [
        "df = df.drop(['floor', 'expenses'], axis = 1)\n",
        "df.info()"
      ],
      "execution_count": null,
      "outputs": [
        {
          "output_type": "stream",
          "text": [
            "<class 'pandas.core.frame.DataFrame'>\n",
            "Int64Index: 12288 entries, 1 to 13755\n",
            "Data columns (total 13 columns):\n",
            "created_on                 12288 non-null datetime64[ns]\n",
            "property_type              12288 non-null object\n",
            "place_name                 12288 non-null object\n",
            "place_with_parent_names    12288 non-null object\n",
            "lat                        12288 non-null float64\n",
            "lon                        12288 non-null float64\n",
            "price_aprox_usd            12288 non-null float64\n",
            "surface_total_in_m2        12288 non-null float64\n",
            "surface_covered_in_m2      11814 non-null float64\n",
            "price_usd_per_m2           12288 non-null float64\n",
            "rooms                      10128 non-null float64\n",
            "properati_url              12288 non-null object\n",
            "barrio                     12288 non-null object\n",
            "dtypes: datetime64[ns](1), float64(7), object(5)\n",
            "memory usage: 1.3+ MB\n"
          ],
          "name": "stdout"
        }
      ]
    },
    {
      "cell_type": "markdown",
      "metadata": {
        "id": "IwNFGbTkahip",
        "colab_type": "text"
      },
      "source": [
        "Analicemos estrategias para imputar los valores faltantes para los atributos `rooms`, `surface_total_in_m2` y `surface_covered_in_m2`.\n",
        "\n",
        "Como vimos en las actividades, entre las opciones que tenemos está la posibilidad de imputar por algún medida de tendencia central, como el caso de la media o la mediana. Vamos a avanzar en esa dirección."
      ]
    },
    {
      "cell_type": "markdown",
      "metadata": {
        "id": "2AypgX18ahiq",
        "colab_type": "text"
      },
      "source": [
        "**8) Imputar las observaciones faltantes** de la columna `surface_total_in_m2 ` y `surface_covered_in_m2` usando la **media**. \n",
        "\n",
        "`Scikit-learn` nos provee la clase `Imputer` que implementa las formas más comunes de imputación."
      ]
    },
    {
      "cell_type": "code",
      "metadata": {
        "id": "kukPMiFVahis",
        "colab_type": "code",
        "colab": {}
      },
      "source": [
        "# Imputar los valores en esta celda\n",
        "\n",
        "from sklearn.impute import SimpleImputer\n",
        "import numpy as np\n"
      ],
      "execution_count": null,
      "outputs": []
    },
    {
      "cell_type": "code",
      "metadata": {
        "id": "lRa4HkvFe_bR",
        "colab_type": "code",
        "colab": {
          "base_uri": "https://localhost:8080/",
          "height": 221
        },
        "outputId": "d30ed90f-26c7-449a-fc48-19029e31e7f9"
      },
      "source": [
        "imputer = SimpleImputer(strategy='mean', missing_values=np.nan)\n",
        "df[['surface_total_in_m2','surface_covered_in_m2']] = imputer.fit_transform(df[['surface_total_in_m2','surface_covered_in_m2']])\n",
        "df.isna().sum()"
      ],
      "execution_count": null,
      "outputs": [
        {
          "output_type": "execute_result",
          "data": {
            "text/plain": [
              "created_on                    0\n",
              "property_type                 0\n",
              "place_name                    0\n",
              "place_with_parent_names       0\n",
              "lat                           0\n",
              "                           ... \n",
              "surface_covered_in_m2         0\n",
              "price_usd_per_m2              0\n",
              "rooms                      2160\n",
              "properati_url                 0\n",
              "barrio                        0\n",
              "Length: 13, dtype: int64"
            ]
          },
          "metadata": {
            "tags": []
          },
          "execution_count": 193
        }
      ]
    },
    {
      "cell_type": "markdown",
      "metadata": {
        "id": "ovcVpRP4ahiv",
        "colab_type": "text"
      },
      "source": [
        "Una de las limitaciones que presenta este tipo de imputación es que provoca estimaciones sesgadas de la varianza. Esto impacta en los errores estandar y, por ende, en los tests estadístcos.\n",
        "\n",
        "Este tipo de técnicas es útil cuando los valores son completamente al azar."
      ]
    },
    {
      "cell_type": "markdown",
      "metadata": {
        "id": "ES2o_sWtahiw",
        "colab_type": "text"
      },
      "source": [
        "**9) Imputar las observaciones faltantes** de la columna `rooms` usando la **mediana**."
      ]
    },
    {
      "cell_type": "code",
      "metadata": {
        "id": "vbkJpq5kfm8P",
        "colab_type": "code",
        "colab": {
          "base_uri": "https://localhost:8080/",
          "height": 221
        },
        "outputId": "af8f18a9-ec45-42a8-c3ff-e7fdcda8c116"
      },
      "source": [
        "# Imputar con la mediana en esta celda\n",
        "imputer = SimpleImputer(missing_values=np.nan, strategy='median')\n",
        "df[[\"rooms\"]]=imputer.fit_transform(df[[\"rooms\"]])\n",
        "df.isna().sum()"
      ],
      "execution_count": null,
      "outputs": [
        {
          "output_type": "execute_result",
          "data": {
            "text/plain": [
              "created_on                 0\n",
              "property_type              0\n",
              "place_name                 0\n",
              "place_with_parent_names    0\n",
              "lat                        0\n",
              "                          ..\n",
              "surface_covered_in_m2      0\n",
              "price_usd_per_m2           0\n",
              "rooms                      0\n",
              "properati_url              0\n",
              "barrio                     0\n",
              "Length: 13, dtype: int64"
            ]
          },
          "metadata": {
            "tags": []
          },
          "execution_count": 194
        }
      ]
    },
    {
      "cell_type": "markdown",
      "metadata": {
        "id": "3RNpE8Fmahi1",
        "colab_type": "text"
      },
      "source": [
        "### Variables binarias"
      ]
    },
    {
      "cell_type": "markdown",
      "metadata": {
        "id": "HXjXHQ5Iahi2",
        "colab_type": "text"
      },
      "source": [
        "#### Generar variables binarias para el atributo `property_type`.\n",
        "\n",
        "Hay que tener en cuenta en este caso que el atributo es categórico.\n",
        "\n",
        "Para hacerlo usando scikit-learn, por como vienen dados los valores (en formato string), primero conviene convertirlos en numéricos. Para esto usamos `LabelEncoder`.\n",
        "\n",
        "**10) Convertí** las variables de `property_type` utilizando `LabelEncoder`"
      ]
    },
    {
      "cell_type": "code",
      "metadata": {
        "id": "PBBae3Xhahi3",
        "colab_type": "code",
        "colab": {
          "base_uri": "https://localhost:8080/",
          "height": 34
        },
        "outputId": "cfb536e8-627d-4f86-882d-8262c9c580fe"
      },
      "source": [
        "# Utilizá LabelEncoder en esta celda\n",
        "\n",
        "from sklearn.preprocessing import LabelEncoder\n",
        "\n",
        "le=LabelEncoder()\n",
        "le.fit(df[\"property_type\"])\n",
        "\n",
        "resultado=le.fit_transform(df[\"property_type\"])\n",
        "resultado"
      ],
      "execution_count": null,
      "outputs": [
        {
          "output_type": "execute_result",
          "data": {
            "text/plain": [
              "array([1, 1, 1, ..., 2, 1, 1])"
            ]
          },
          "metadata": {
            "tags": []
          },
          "execution_count": 195
        }
      ]
    },
    {
      "cell_type": "markdown",
      "metadata": {
        "id": "BPk43dECahi7",
        "colab_type": "text"
      },
      "source": [
        "**11) Mostrar** las clases del `LabelEncoder`:"
      ]
    },
    {
      "cell_type": "code",
      "metadata": {
        "id": "kIJ-Mtm7ahi8",
        "colab_type": "code",
        "colab": {
          "base_uri": "https://localhost:8080/",
          "height": 34
        },
        "outputId": "50edf8e3-820c-4320-fa94-ab7ab75cd3db"
      },
      "source": [
        "# Mostrar la propiedad classes_ del LabelEncoder que creaste\n",
        "le.classes_"
      ],
      "execution_count": null,
      "outputs": [
        {
          "output_type": "execute_result",
          "data": {
            "text/plain": [
              "array(['PH', 'apartment', 'house'], dtype=object)"
            ]
          },
          "metadata": {
            "tags": []
          },
          "execution_count": 196
        }
      ]
    },
    {
      "cell_type": "markdown",
      "metadata": {
        "id": "30NSG1gGahi_",
        "colab_type": "text"
      },
      "source": [
        "Luego con `OneHotEncoder` obtenemos las categorías expresadas como **variables binarias**. \n",
        "\n",
        "**12) Aplicar** `OneHotEncoder` sobre las variables categóricas para crear un dataframe `categoricals_df`"
      ]
    },
    {
      "cell_type": "code",
      "metadata": {
        "id": "nJOEYwqpahjA",
        "colab_type": "code",
        "colab": {
          "base_uri": "https://localhost:8080/",
          "height": 419
        },
        "outputId": "c0749292-5f1e-47eb-f5e8-0f0e48f2e88c"
      },
      "source": [
        "# Utilizá OneHotEncoder en esta celda \n",
        "\n",
        "from sklearn.preprocessing import OneHotEncoder\n",
        "\n",
        "ohe=OneHotEncoder(sparse=False)\n",
        "ohe.fit(df[[\"property_type\"]])\n",
        "categoricals_df=ohe.fit_transform(df[[\"property_type\"]])\n",
        "categoricals_df=pd.DataFrame(categoricals_df)\n",
        "categoricals_df\n"
      ],
      "execution_count": null,
      "outputs": [
        {
          "output_type": "execute_result",
          "data": {
            "text/html": [
              "<div>\n",
              "<style scoped>\n",
              "    .dataframe tbody tr th:only-of-type {\n",
              "        vertical-align: middle;\n",
              "    }\n",
              "\n",
              "    .dataframe tbody tr th {\n",
              "        vertical-align: top;\n",
              "    }\n",
              "\n",
              "    .dataframe thead th {\n",
              "        text-align: right;\n",
              "    }\n",
              "</style>\n",
              "<table border=\"1\" class=\"dataframe\">\n",
              "  <thead>\n",
              "    <tr style=\"text-align: right;\">\n",
              "      <th></th>\n",
              "      <th>0</th>\n",
              "      <th>1</th>\n",
              "      <th>2</th>\n",
              "    </tr>\n",
              "  </thead>\n",
              "  <tbody>\n",
              "    <tr>\n",
              "      <th>0</th>\n",
              "      <td>0.0</td>\n",
              "      <td>1.0</td>\n",
              "      <td>0.0</td>\n",
              "    </tr>\n",
              "    <tr>\n",
              "      <th>1</th>\n",
              "      <td>0.0</td>\n",
              "      <td>1.0</td>\n",
              "      <td>0.0</td>\n",
              "    </tr>\n",
              "    <tr>\n",
              "      <th>2</th>\n",
              "      <td>0.0</td>\n",
              "      <td>1.0</td>\n",
              "      <td>0.0</td>\n",
              "    </tr>\n",
              "    <tr>\n",
              "      <th>3</th>\n",
              "      <td>0.0</td>\n",
              "      <td>0.0</td>\n",
              "      <td>1.0</td>\n",
              "    </tr>\n",
              "    <tr>\n",
              "      <th>4</th>\n",
              "      <td>0.0</td>\n",
              "      <td>0.0</td>\n",
              "      <td>1.0</td>\n",
              "    </tr>\n",
              "    <tr>\n",
              "      <th>...</th>\n",
              "      <td>...</td>\n",
              "      <td>...</td>\n",
              "      <td>...</td>\n",
              "    </tr>\n",
              "    <tr>\n",
              "      <th>12283</th>\n",
              "      <td>0.0</td>\n",
              "      <td>1.0</td>\n",
              "      <td>0.0</td>\n",
              "    </tr>\n",
              "    <tr>\n",
              "      <th>12284</th>\n",
              "      <td>0.0</td>\n",
              "      <td>1.0</td>\n",
              "      <td>0.0</td>\n",
              "    </tr>\n",
              "    <tr>\n",
              "      <th>12285</th>\n",
              "      <td>0.0</td>\n",
              "      <td>0.0</td>\n",
              "      <td>1.0</td>\n",
              "    </tr>\n",
              "    <tr>\n",
              "      <th>12286</th>\n",
              "      <td>0.0</td>\n",
              "      <td>1.0</td>\n",
              "      <td>0.0</td>\n",
              "    </tr>\n",
              "    <tr>\n",
              "      <th>12287</th>\n",
              "      <td>0.0</td>\n",
              "      <td>1.0</td>\n",
              "      <td>0.0</td>\n",
              "    </tr>\n",
              "  </tbody>\n",
              "</table>\n",
              "<p>12288 rows × 3 columns</p>\n",
              "</div>"
            ],
            "text/plain": [
              "         0    1    2\n",
              "0      0.0  1.0  0.0\n",
              "1      0.0  1.0  0.0\n",
              "2      0.0  1.0  0.0\n",
              "3      0.0  0.0  1.0\n",
              "4      0.0  0.0  1.0\n",
              "...    ...  ...  ...\n",
              "12283  0.0  1.0  0.0\n",
              "12284  0.0  1.0  0.0\n",
              "12285  0.0  0.0  1.0\n",
              "12286  0.0  1.0  0.0\n",
              "12287  0.0  1.0  0.0\n",
              "\n",
              "[12288 rows x 3 columns]"
            ]
          },
          "metadata": {
            "tags": []
          },
          "execution_count": 197
        }
      ]
    },
    {
      "cell_type": "markdown",
      "metadata": {
        "id": "wNARrZvhahjF",
        "colab_type": "text"
      },
      "source": [
        "Unimos el nuevo dataframe `categorical_df` con el `dataframe` original `df`. Para esto, necesitamos que tengan el mismo índice."
      ]
    },
    {
      "cell_type": "code",
      "metadata": {
        "id": "zfQkQohjahjG",
        "colab_type": "code",
        "colab": {
          "base_uri": "https://localhost:8080/",
          "height": 626
        },
        "outputId": "98e894d9-9030-45de-d171-7545478c2acc"
      },
      "source": [
        "categoricals_df = categoricals_df.set_index(df.index)\n",
        "df = pd.concat([df, categoricals_df], axis=1)\n",
        "df"
      ],
      "execution_count": null,
      "outputs": [
        {
          "output_type": "execute_result",
          "data": {
            "text/html": [
              "<div>\n",
              "<style scoped>\n",
              "    .dataframe tbody tr th:only-of-type {\n",
              "        vertical-align: middle;\n",
              "    }\n",
              "\n",
              "    .dataframe tbody tr th {\n",
              "        vertical-align: top;\n",
              "    }\n",
              "\n",
              "    .dataframe thead th {\n",
              "        text-align: right;\n",
              "    }\n",
              "</style>\n",
              "<table border=\"1\" class=\"dataframe\">\n",
              "  <thead>\n",
              "    <tr style=\"text-align: right;\">\n",
              "      <th></th>\n",
              "      <th>created_on</th>\n",
              "      <th>property_type</th>\n",
              "      <th>place_name</th>\n",
              "      <th>place_with_parent_names</th>\n",
              "      <th>lat</th>\n",
              "      <th>lon</th>\n",
              "      <th>price_aprox_usd</th>\n",
              "      <th>surface_total_in_m2</th>\n",
              "      <th>surface_covered_in_m2</th>\n",
              "      <th>price_usd_per_m2</th>\n",
              "      <th>rooms</th>\n",
              "      <th>properati_url</th>\n",
              "      <th>barrio</th>\n",
              "      <th>0</th>\n",
              "      <th>1</th>\n",
              "      <th>2</th>\n",
              "    </tr>\n",
              "  </thead>\n",
              "  <tbody>\n",
              "    <tr>\n",
              "      <th>1</th>\n",
              "      <td>2017-08-29</td>\n",
              "      <td>apartment</td>\n",
              "      <td>Palermo</td>\n",
              "      <td>|Argentina|Capital Federal|Palermo|</td>\n",
              "      <td>-34.588912</td>\n",
              "      <td>-58.413494</td>\n",
              "      <td>340000.00</td>\n",
              "      <td>130.0</td>\n",
              "      <td>120.0</td>\n",
              "      <td>2615.384615</td>\n",
              "      <td>4.0</td>\n",
              "      <td>https://www.properati.com.ar/1dzv6_venta_depar...</td>\n",
              "      <td>PALERMO</td>\n",
              "      <td>0.0</td>\n",
              "      <td>1.0</td>\n",
              "      <td>0.0</td>\n",
              "    </tr>\n",
              "    <tr>\n",
              "      <th>2</th>\n",
              "      <td>2017-08-29</td>\n",
              "      <td>apartment</td>\n",
              "      <td>Palermo</td>\n",
              "      <td>|Argentina|Capital Federal|Palermo|</td>\n",
              "      <td>-34.577033</td>\n",
              "      <td>-58.423368</td>\n",
              "      <td>222000.00</td>\n",
              "      <td>52.0</td>\n",
              "      <td>48.0</td>\n",
              "      <td>4269.230769</td>\n",
              "      <td>1.0</td>\n",
              "      <td>https://www.properati.com.ar/1e05k_venta_depar...</td>\n",
              "      <td>PALERMO</td>\n",
              "      <td>0.0</td>\n",
              "      <td>1.0</td>\n",
              "      <td>0.0</td>\n",
              "    </tr>\n",
              "    <tr>\n",
              "      <th>3</th>\n",
              "      <td>2017-08-29</td>\n",
              "      <td>apartment</td>\n",
              "      <td>Palermo</td>\n",
              "      <td>|Argentina|Capital Federal|Palermo|</td>\n",
              "      <td>-34.595014</td>\n",
              "      <td>-58.427392</td>\n",
              "      <td>180000.00</td>\n",
              "      <td>70.0</td>\n",
              "      <td>70.0</td>\n",
              "      <td>2571.428571</td>\n",
              "      <td>3.0</td>\n",
              "      <td>https://www.properati.com.ar/1e0mq_venta_depar...</td>\n",
              "      <td>PALERMO</td>\n",
              "      <td>0.0</td>\n",
              "      <td>1.0</td>\n",
              "      <td>0.0</td>\n",
              "    </tr>\n",
              "    <tr>\n",
              "      <th>4</th>\n",
              "      <td>2017-08-30</td>\n",
              "      <td>house</td>\n",
              "      <td>Palermo Hollywood</td>\n",
              "      <td>|Argentina|Capital Federal|Palermo|Palermo Hol...</td>\n",
              "      <td>-34.579354</td>\n",
              "      <td>-58.436449</td>\n",
              "      <td>1200000.00</td>\n",
              "      <td>532.0</td>\n",
              "      <td>334.0</td>\n",
              "      <td>2255.639098</td>\n",
              "      <td>6.0</td>\n",
              "      <td>https://www.properati.com.ar/1e1ve_venta_casa_...</td>\n",
              "      <td>PALERMO</td>\n",
              "      <td>0.0</td>\n",
              "      <td>0.0</td>\n",
              "      <td>1.0</td>\n",
              "    </tr>\n",
              "    <tr>\n",
              "      <th>5</th>\n",
              "      <td>2017-08-30</td>\n",
              "      <td>house</td>\n",
              "      <td>Palermo</td>\n",
              "      <td>|Argentina|Capital Federal|Palermo|</td>\n",
              "      <td>-34.579354</td>\n",
              "      <td>-58.436449</td>\n",
              "      <td>1200000.00</td>\n",
              "      <td>532.0</td>\n",
              "      <td>334.0</td>\n",
              "      <td>2255.639098</td>\n",
              "      <td>6.0</td>\n",
              "      <td>https://www.properati.com.ar/1e1vf_venta_casa_...</td>\n",
              "      <td>PALERMO</td>\n",
              "      <td>0.0</td>\n",
              "      <td>0.0</td>\n",
              "      <td>1.0</td>\n",
              "    </tr>\n",
              "    <tr>\n",
              "      <th>...</th>\n",
              "      <td>...</td>\n",
              "      <td>...</td>\n",
              "      <td>...</td>\n",
              "      <td>...</td>\n",
              "      <td>...</td>\n",
              "      <td>...</td>\n",
              "      <td>...</td>\n",
              "      <td>...</td>\n",
              "      <td>...</td>\n",
              "      <td>...</td>\n",
              "      <td>...</td>\n",
              "      <td>...</td>\n",
              "      <td>...</td>\n",
              "      <td>...</td>\n",
              "      <td>...</td>\n",
              "      <td>...</td>\n",
              "    </tr>\n",
              "    <tr>\n",
              "      <th>13751</th>\n",
              "      <td>2017-12-17</td>\n",
              "      <td>apartment</td>\n",
              "      <td>Villa Soldati</td>\n",
              "      <td>|Argentina|Capital Federal|Villa Soldati|</td>\n",
              "      <td>-34.668970</td>\n",
              "      <td>-58.443897</td>\n",
              "      <td>49000.00</td>\n",
              "      <td>75.0</td>\n",
              "      <td>75.0</td>\n",
              "      <td>653.333333</td>\n",
              "      <td>4.0</td>\n",
              "      <td>https://www.properati.com.ar/1j22x_venta_depar...</td>\n",
              "      <td>VILLA SOLDATI</td>\n",
              "      <td>0.0</td>\n",
              "      <td>1.0</td>\n",
              "      <td>0.0</td>\n",
              "    </tr>\n",
              "    <tr>\n",
              "      <th>13752</th>\n",
              "      <td>2018-01-08</td>\n",
              "      <td>apartment</td>\n",
              "      <td>Villa Soldati</td>\n",
              "      <td>|Argentina|Capital Federal|Villa Soldati|</td>\n",
              "      <td>-34.668741</td>\n",
              "      <td>-58.443146</td>\n",
              "      <td>60000.00</td>\n",
              "      <td>55.0</td>\n",
              "      <td>55.0</td>\n",
              "      <td>1090.909091</td>\n",
              "      <td>3.0</td>\n",
              "      <td>https://www.properati.com.ar/1jcpm_venta_depar...</td>\n",
              "      <td>VILLA SOLDATI</td>\n",
              "      <td>0.0</td>\n",
              "      <td>1.0</td>\n",
              "      <td>0.0</td>\n",
              "    </tr>\n",
              "    <tr>\n",
              "      <th>13753</th>\n",
              "      <td>2018-01-23</td>\n",
              "      <td>house</td>\n",
              "      <td>Villa Soldati</td>\n",
              "      <td>|Argentina|Capital Federal|Villa Soldati|</td>\n",
              "      <td>-34.664170</td>\n",
              "      <td>-58.443317</td>\n",
              "      <td>99000.00</td>\n",
              "      <td>115.0</td>\n",
              "      <td>82.0</td>\n",
              "      <td>860.869565</td>\n",
              "      <td>3.0</td>\n",
              "      <td>https://www.properati.com.ar/1k1hs_venta_casa_...</td>\n",
              "      <td>VILLA SOLDATI</td>\n",
              "      <td>0.0</td>\n",
              "      <td>0.0</td>\n",
              "      <td>1.0</td>\n",
              "    </tr>\n",
              "    <tr>\n",
              "      <th>13754</th>\n",
              "      <td>2018-01-27</td>\n",
              "      <td>apartment</td>\n",
              "      <td>Villa Soldati</td>\n",
              "      <td>|Argentina|Capital Federal|Villa Soldati|</td>\n",
              "      <td>-34.665005</td>\n",
              "      <td>-58.443041</td>\n",
              "      <td>50433.01</td>\n",
              "      <td>45.0</td>\n",
              "      <td>45.0</td>\n",
              "      <td>1120.733556</td>\n",
              "      <td>3.0</td>\n",
              "      <td>https://www.properati.com.ar/1k5v0_venta_depar...</td>\n",
              "      <td>VILLA SOLDATI</td>\n",
              "      <td>0.0</td>\n",
              "      <td>1.0</td>\n",
              "      <td>0.0</td>\n",
              "    </tr>\n",
              "    <tr>\n",
              "      <th>13755</th>\n",
              "      <td>2018-01-27</td>\n",
              "      <td>apartment</td>\n",
              "      <td>Villa Lugano</td>\n",
              "      <td>|Argentina|Capital Federal|Villa Lugano|</td>\n",
              "      <td>-34.664283</td>\n",
              "      <td>-58.469604</td>\n",
              "      <td>75000.00</td>\n",
              "      <td>60.0</td>\n",
              "      <td>58.0</td>\n",
              "      <td>1250.000000</td>\n",
              "      <td>3.0</td>\n",
              "      <td>https://www.properati.com.ar/1k5x2_venta_depar...</td>\n",
              "      <td>VILLA SOLDATI</td>\n",
              "      <td>0.0</td>\n",
              "      <td>1.0</td>\n",
              "      <td>0.0</td>\n",
              "    </tr>\n",
              "  </tbody>\n",
              "</table>\n",
              "<p>12288 rows × 16 columns</p>\n",
              "</div>"
            ],
            "text/plain": [
              "      created_on property_type         place_name  \\\n",
              "1     2017-08-29     apartment            Palermo   \n",
              "2     2017-08-29     apartment            Palermo   \n",
              "3     2017-08-29     apartment            Palermo   \n",
              "4     2017-08-30         house  Palermo Hollywood   \n",
              "5     2017-08-30         house            Palermo   \n",
              "...          ...           ...                ...   \n",
              "13751 2017-12-17     apartment      Villa Soldati   \n",
              "13752 2018-01-08     apartment      Villa Soldati   \n",
              "13753 2018-01-23         house      Villa Soldati   \n",
              "13754 2018-01-27     apartment      Villa Soldati   \n",
              "13755 2018-01-27     apartment       Villa Lugano   \n",
              "\n",
              "                                 place_with_parent_names        lat  \\\n",
              "1                    |Argentina|Capital Federal|Palermo| -34.588912   \n",
              "2                    |Argentina|Capital Federal|Palermo| -34.577033   \n",
              "3                    |Argentina|Capital Federal|Palermo| -34.595014   \n",
              "4      |Argentina|Capital Federal|Palermo|Palermo Hol... -34.579354   \n",
              "5                    |Argentina|Capital Federal|Palermo| -34.579354   \n",
              "...                                                  ...        ...   \n",
              "13751          |Argentina|Capital Federal|Villa Soldati| -34.668970   \n",
              "13752          |Argentina|Capital Federal|Villa Soldati| -34.668741   \n",
              "13753          |Argentina|Capital Federal|Villa Soldati| -34.664170   \n",
              "13754          |Argentina|Capital Federal|Villa Soldati| -34.665005   \n",
              "13755           |Argentina|Capital Federal|Villa Lugano| -34.664283   \n",
              "\n",
              "             lon  price_aprox_usd  surface_total_in_m2  surface_covered_in_m2  \\\n",
              "1     -58.413494        340000.00                130.0                  120.0   \n",
              "2     -58.423368        222000.00                 52.0                   48.0   \n",
              "3     -58.427392        180000.00                 70.0                   70.0   \n",
              "4     -58.436449       1200000.00                532.0                  334.0   \n",
              "5     -58.436449       1200000.00                532.0                  334.0   \n",
              "...          ...              ...                  ...                    ...   \n",
              "13751 -58.443897         49000.00                 75.0                   75.0   \n",
              "13752 -58.443146         60000.00                 55.0                   55.0   \n",
              "13753 -58.443317         99000.00                115.0                   82.0   \n",
              "13754 -58.443041         50433.01                 45.0                   45.0   \n",
              "13755 -58.469604         75000.00                 60.0                   58.0   \n",
              "\n",
              "       price_usd_per_m2  rooms  \\\n",
              "1           2615.384615    4.0   \n",
              "2           4269.230769    1.0   \n",
              "3           2571.428571    3.0   \n",
              "4           2255.639098    6.0   \n",
              "5           2255.639098    6.0   \n",
              "...                 ...    ...   \n",
              "13751        653.333333    4.0   \n",
              "13752       1090.909091    3.0   \n",
              "13753        860.869565    3.0   \n",
              "13754       1120.733556    3.0   \n",
              "13755       1250.000000    3.0   \n",
              "\n",
              "                                           properati_url         barrio    0  \\\n",
              "1      https://www.properati.com.ar/1dzv6_venta_depar...        PALERMO  0.0   \n",
              "2      https://www.properati.com.ar/1e05k_venta_depar...        PALERMO  0.0   \n",
              "3      https://www.properati.com.ar/1e0mq_venta_depar...        PALERMO  0.0   \n",
              "4      https://www.properati.com.ar/1e1ve_venta_casa_...        PALERMO  0.0   \n",
              "5      https://www.properati.com.ar/1e1vf_venta_casa_...        PALERMO  0.0   \n",
              "...                                                  ...            ...  ...   \n",
              "13751  https://www.properati.com.ar/1j22x_venta_depar...  VILLA SOLDATI  0.0   \n",
              "13752  https://www.properati.com.ar/1jcpm_venta_depar...  VILLA SOLDATI  0.0   \n",
              "13753  https://www.properati.com.ar/1k1hs_venta_casa_...  VILLA SOLDATI  0.0   \n",
              "13754  https://www.properati.com.ar/1k5v0_venta_depar...  VILLA SOLDATI  0.0   \n",
              "13755  https://www.properati.com.ar/1k5x2_venta_depar...  VILLA SOLDATI  0.0   \n",
              "\n",
              "         1    2  \n",
              "1      1.0  0.0  \n",
              "2      1.0  0.0  \n",
              "3      1.0  0.0  \n",
              "4      0.0  1.0  \n",
              "5      0.0  1.0  \n",
              "...    ...  ...  \n",
              "13751  1.0  0.0  \n",
              "13752  1.0  0.0  \n",
              "13753  0.0  1.0  \n",
              "13754  1.0  0.0  \n",
              "13755  1.0  0.0  \n",
              "\n",
              "[12288 rows x 16 columns]"
            ]
          },
          "metadata": {
            "tags": []
          },
          "execution_count": 198
        }
      ]
    },
    {
      "cell_type": "markdown",
      "metadata": {
        "id": "i7aZW2ebahjJ",
        "colab_type": "text"
      },
      "source": [
        "### Variables calculadas"
      ]
    },
    {
      "cell_type": "markdown",
      "metadata": {
        "id": "JkFtebnpahjK",
        "colab_type": "text"
      },
      "source": [
        "__Calcular el precio por metro cuadrado (precio/superficie total). Llamar a este atributo `price_m2`.__\n",
        "\n",
        "Hay que tener cuidado en esta parte respecto de dividir por cero. Para ello, armemos una función de división que contemple eso.\n",
        "\n",
        "El hecho de crear una columna nueva y no imputar los faltantes es simplemente una decisión. Cuando veamos modelos predictivos, vamos a poder cuantificar el costo de las decisiones que tomemos en términos de performance del modelo."
      ]
    },
    {
      "cell_type": "code",
      "metadata": {
        "id": "ImUK3e9MahjL",
        "colab_type": "code",
        "colab": {}
      },
      "source": [
        "def custom_division(x, y):\n",
        "    if y > 0:\n",
        "        res = x / y\n",
        "    else:\n",
        "        res = 0\n",
        "    return res\n",
        "\n",
        "df['price_m2'] = df.apply(lambda x: custom_division(x['price_aprox_usd'], x['surface_total_in_m2']), axis = 1)\n",
        "df.drop(['price_usd_per_m2'], axis=1, inplace=True)"
      ],
      "execution_count": null,
      "outputs": []
    },
    {
      "cell_type": "markdown",
      "metadata": {
        "id": "lCD4NeYFahjP",
        "colab_type": "text"
      },
      "source": [
        "__Verificar que ya no quedan atributos con valores faltantes__"
      ]
    },
    {
      "cell_type": "code",
      "metadata": {
        "id": "MJFOR5ATahjQ",
        "colab_type": "code",
        "colab": {
          "base_uri": "https://localhost:8080/",
          "height": 49
        },
        "outputId": "0b937f1a-de22-449b-e0c1-09c28642734e"
      },
      "source": [
        "# Creamos un dataset con los porcentajes de nulos\n",
        "df_faltantes = pd.DataFrame(df.isnull().sum() / df.shape[0], columns=['Porcentaje nulos'])\n",
        "# Solo mostramos los que tengan valores nulos. Si el porcentaje es 0 no se muestra\n",
        "df_faltantes.loc[~(df_faltantes==0).all(axis=1)]"
      ],
      "execution_count": null,
      "outputs": [
        {
          "output_type": "execute_result",
          "data": {
            "text/html": [
              "<div>\n",
              "<style scoped>\n",
              "    .dataframe tbody tr th:only-of-type {\n",
              "        vertical-align: middle;\n",
              "    }\n",
              "\n",
              "    .dataframe tbody tr th {\n",
              "        vertical-align: top;\n",
              "    }\n",
              "\n",
              "    .dataframe thead th {\n",
              "        text-align: right;\n",
              "    }\n",
              "</style>\n",
              "<table border=\"1\" class=\"dataframe\">\n",
              "  <thead>\n",
              "    <tr style=\"text-align: right;\">\n",
              "      <th></th>\n",
              "      <th>Porcentaje nulos</th>\n",
              "    </tr>\n",
              "  </thead>\n",
              "  <tbody>\n",
              "  </tbody>\n",
              "</table>\n",
              "</div>"
            ],
            "text/plain": [
              "Empty DataFrame\n",
              "Columns: [Porcentaje nulos]\n",
              "Index: []"
            ]
          },
          "metadata": {
            "tags": []
          },
          "execution_count": 200
        }
      ]
    },
    {
      "cell_type": "code",
      "metadata": {
        "id": "Rs85DyMkahjV",
        "colab_type": "code",
        "colab": {
          "base_uri": "https://localhost:8080/",
          "height": 34
        },
        "outputId": "93136ec4-f17e-43ce-c4de-b8e2e90798d6"
      },
      "source": [
        "print(\"El dataset final luego del procesamiento tiene {} observaciones\".format(df.shape[0]))"
      ],
      "execution_count": null,
      "outputs": [
        {
          "output_type": "stream",
          "text": [
            "El dataset final luego del procesamiento tiene 12288 observaciones\n"
          ],
          "name": "stdout"
        }
      ]
    },
    {
      "cell_type": "markdown",
      "metadata": {
        "id": "R0TKsAOdahjZ",
        "colab_type": "text"
      },
      "source": [
        "De este modo, hemos limpiado valores extremos e imputado valores nulos. El costo de esto fue la pérdida de 685 observaciones, 5% de la cantidad original de filas."
      ]
    }
  ]
}